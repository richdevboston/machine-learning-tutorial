{
 "cells": [
  {
   "cell_type": "markdown",
   "metadata": {},
   "source": [
    "# Prerequisites"
   ]
  },
  {
   "cell_type": "markdown",
   "metadata": {},
   "source": [
    "## 0. (Optional) VirtualEnv and VirtualEnvWrapper"
   ]
  },
  {
   "cell_type": "markdown",
   "metadata": {},
   "source": [
    "This step is optional, but if you don't want the current installation to mess up your Python settings, follow the instructions [here](http://docs.python-guide.org/en/latest/dev/virtualenvs/) to install `Virtual Environment` for Python 2. You can also install the wrapper for the `VirtualENV` to make your life a little bit easier :)"
   ]
  },
  {
   "cell_type": "markdown",
   "metadata": {},
   "source": [
    "Once you have virtual environment and the wrapper setup:"
   ]
  },
  {
   "cell_type": "markdown",
   "metadata": {},
   "source": [
    "```bash\n",
    "$> mkvirtualenv ML\n",
    "```\n",
    "```\n",
    "New python executable in /Users/zafar/.virtualenvs/test/bin/python2.7\n",
    "Also creating executable in /Users/zafar/.virtualenvs/test/bin/python\n",
    "Installing setuptools, pip, wheel...done.\n",
    "virtualenvwrapper.user_scripts creating /Users/zafar/.virtualenvs/test/bin/predeactivate\n",
    "virtualenvwrapper.user_scripts creating /Users/zafar/.virtualenvs/test/bin/postdeactivate\n",
    "virtualenvwrapper.user_scripts creating /Users/zafar/.virtualenvs/test/bin/preactivate\n",
    "virtualenvwrapper.user_scripts creating /Users/zafar/.virtualenvs/test/bin/postactivate\n",
    "virtualenvwrapper.user_scripts creating /Users/zafar/.virtualenvs/test/bin/get_env_details\n",
    "```"
   ]
  },
  {
   "cell_type": "markdown",
   "metadata": {},
   "source": [
    "From now on, whenever you would like to work on the current project, you can do"
   ]
  },
  {
   "cell_type": "markdown",
   "metadata": {},
   "source": [
    "```bash\n",
    "$> workon ML\n",
    "(ML) $>\n",
    "```"
   ]
  },
  {
   "cell_type": "markdown",
   "metadata": {},
   "source": [
    "Note the `(ML)` in the beginning of the prompt -- it means that you currently working in the `(ML)` environment, and anything you install will be applied ONLY to this environment."
   ]
  }
 ],
 "metadata": {
  "kernelspec": {
   "display_name": "Python 2",
   "language": "python",
   "name": "python2"
  },
  "language_info": {
   "codemirror_mode": {
    "name": "ipython",
    "version": 2
   },
   "file_extension": ".py",
   "mimetype": "text/x-python",
   "name": "python",
   "nbconvert_exporter": "python",
   "pygments_lexer": "ipython2",
   "version": "2.7.12"
  }
 },
 "nbformat": 4,
 "nbformat_minor": 1
}
